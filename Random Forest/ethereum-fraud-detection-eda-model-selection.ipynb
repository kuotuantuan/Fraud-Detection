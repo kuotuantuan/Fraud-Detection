{
  "metadata": {
    "kernelspec": {
      "language": "python",
      "display_name": "Python 3",
      "name": "python3"
    },
    "language_info": {
      "name": "python",
      "version": "3.7.6",
      "mimetype": "text/x-python",
      "codemirror_mode": {
        "name": "ipython",
        "version": 3
      },
      "pygments_lexer": "ipython3",
      "nbconvert_exporter": "python",
      "file_extension": ".py"
    },
    "colab": {
      "provenance": [],
      "machine_shape": "hm",
      "include_colab_link": true
    }
  },
  "nbformat_minor": 0,
  "nbformat": 4,
  "cells": [
    {
      "cell_type": "markdown",
      "metadata": {
        "id": "view-in-github",
        "colab_type": "text"
      },
      "source": [
        "<a href=\"https://colab.research.google.com/github/kuotuantuan/Fraud-Detection/blob/main/Random%20Forest/ethereum-fraud-detection-eda-model-selection.ipynb\" target=\"_parent\"><img src=\"https://colab.research.google.com/assets/colab-badge.svg\" alt=\"Open In Colab\"/></a>"
      ]
    },
    {
      "cell_type": "markdown",
      "source": [
        "## This dataset contains rows of known fraud and valid transactions made over Ethereum.\n",
        "\n"
      ],
      "metadata": {
        "id": "Z4XG_J_-h0Gn"
      }
    },
    {
      "cell_type": "markdown",
      "source": [
        "### Task: EDA & Prediction of Fraud/Valid Transaction\n",
        "\n",
        "Here is a description of the rows of the dataset:\n",
        "* Index: the index number of a row\n",
        "* Address: the address of the ethereum account\n",
        "* FLAG: whether the transaction is fraud or not\n",
        "* Avg min between sent tnx: Average time between sent transactions for account in minutes\n",
        "* Avgminbetweenreceivedtnx: Average time between received transactions for account in minutes\n",
        "* TimeDiffbetweenfirstand_last(Mins): Time difference between the first and last transaction\n",
        "* Sent_tnx: Total number of sent normal transactions\n",
        "* Received_tnx: Total number of received normal transactions\n",
        "* NumberofCreated_Contracts: Total Number of created contract transactions\n",
        "* UniqueReceivedFrom_Addresses: Total Unique addresses from which account received transactions\n",
        "* UniqueSentTo_Addresses20: Total Unique addresses from which account sent transactions\n",
        "* MinValueReceived: Minimum value in Ether ever received\n",
        "* MaxValueReceived: Maximum value in Ether ever received\n",
        "* AvgValueReceived5Average value in Ether ever received\n",
        "* MinValSent: Minimum value of Ether ever sent\n",
        "* MaxValSent: Maximum value of Ether ever sent\n",
        "* AvgValSent: Average value of Ether ever sent\n",
        "* MinValueSentToContract: Minimum value of Ether sent to a contract\n",
        "* MaxValueSentToContract: Maximum value of Ether sent to a contract\n",
        "* AvgValueSentToContract: Average value of Ether sent to contracts\n",
        "* TotalTransactions(IncludingTnxtoCreate_Contract): Total number of transactions\n",
        "* TotalEtherSent:Total Ether sent for account address\n",
        "* TotalEtherReceived: Total Ether received for account address\n",
        "* TotalEtherSent_Contracts: Total Ether sent to Contract addresses\n",
        "* TotalEtherBalance: Total Ether Balance following enacted transactions\n",
        "* TotalERC20Tnxs: Total number of ERC20 token transfer transactions\n",
        "* ERC20TotalEther_Received: Total ERC20 token received transactions in Ether\n",
        "* ERC20TotalEther_Sent: Total ERC20token sent transactions in Ether\n",
        "* ERC20TotalEtherSentContract: Total ERC20 token transfer to other contracts in Ether\n",
        "* ERC20UniqSent_Addr: Number of ERC20 token transactions sent to Unique account addresses\n",
        "* ERC20UniqRec_Addr: Number of ERC20 token transactions received from Unique addresses\n",
        "* ERC20UniqRecContractAddr: Number of ERC20token transactions received from Unique contract addresses\n",
        "* ERC20AvgTimeBetweenSent_Tnx: Average time between ERC20 token sent transactions in minutes\n",
        "* ERC20AvgTimeBetweenRec_Tnx: Average time between ERC20 token received transactions in minutes\n",
        "* ERC20AvgTimeBetweenContract_Tnx: Average time ERC20 token between sent token transactions\n",
        "* ERC20MinVal_Rec: Minimum value in Ether received from ERC20 token transactions for account\n",
        "* ERC20MaxVal_Rec: Maximum value in Ether received from ERC20 token transactions for account\n",
        "* ERC20AvgVal_Rec: Average value in Ether received from ERC20 token transactions for account\n",
        "* ERC20MinVal_Sent: Minimum value in Ether sent from ERC20 token transactions for account\n",
        "* ERC20MaxVal_Sent: Maximum value in Ether sent from ERC20 token transactions for account\n",
        "* ERC20AvgVal_Sent: Average value in Ether sent from ERC20 token transactions for account\n",
        "* ERC20UniqSentTokenName: Number of Unique ERC20 tokens transferred\n",
        "* ERC20UniqRecTokenName: Number of Unique ERC20 tokens received\n",
        "* ERC20MostSentTokenType: Most sent token for account via ERC20 transaction\n",
        "* ERC20MostRecTokenType: Most received token for account via ERC20 transactions"
      ],
      "metadata": {
        "id": "XT7mVW_jlS2s"
      }
    },
    {
      "cell_type": "markdown",
      "source": [
        "## Code start"
      ],
      "metadata": {
        "id": "zZDC6dy5mWgp"
      }
    },
    {
      "cell_type": "markdown",
      "source": [
        "### Data Input and Description"
      ],
      "metadata": {
        "id": "5G2rOzqtldcu"
      }
    },
    {
      "cell_type": "code",
      "source": [
        "import numpy as np\n",
        "import pandas as pd\n",
        "pd.set_option('display.max_columns', None)\n",
        "import matplotlib.pyplot as plt\n",
        "import seaborn as sns\n",
        "import klib\n",
        "\n",
        "from sklearn.model_selection import StratifiedKFold, cross_validate, learning_curve, RandomizedSearchCV, train_test_split\n",
        "from sklearn.metrics import f1_score, roc_auc_score, plot_confusion_matrix, accuracy_score\n",
        "from sklearn.pipeline import Pipeline, make_pipeline\n",
        "from sklearn.impute import SimpleImputer\n",
        "from sklearn.preprocessing import StandardScaler\n",
        "from sklearn.linear_model import LogisticRegression\n",
        "from sklearn.ensemble import RandomForestClassifier, GradientBoostingClassifier, AdaBoostClassifier\n",
        "from sklearn.svm import SVC\n",
        "from sklearn.neural_network import MLPClassifier\n",
        "from sklearn.neighbors import KNeighborsClassifier\n",
        "from sklearn.naive_bayes import GaussianNB\n",
        "\n",
        "import xgboost as xgb\n",
        "import lightgbm as lgb\n",
        "\n",
        "import os"
      ],
      "metadata": {
        "_uuid": "8f2839f25d086af736a60e9eeb907d3b93b6e0e5",
        "_cell_guid": "b1076dfc-b9ad-4769-8c92-a6c4dae69d19",
        "execution": {
          "iopub.status.busy": "2022-10-13T22:43:13.925129Z",
          "iopub.execute_input": "2022-10-13T22:43:13.925858Z",
          "iopub.status.idle": "2022-10-13T22:43:14.376222Z",
          "shell.execute_reply.started": "2022-10-13T22:43:13.925817Z",
          "shell.execute_reply": "2022-10-13T22:43:14.374598Z"
        },
        "trusted": true,
        "id": "s7vjlcCLh0Gr"
      },
      "execution_count": 24,
      "outputs": []
    },
    {
      "cell_type": "code",
      "source": [
        "df = pd.read_csv('/content/transaction_dataset.csv', index_col=[0])\n",
        "df.drop(columns='Index', inplace=True)\n",
        "df.drop_duplicates(inplace=True)"
      ],
      "metadata": {
        "trusted": true,
        "id": "s32e-UAGh0Gs"
      },
      "execution_count": 25,
      "outputs": []
    },
    {
      "cell_type": "code",
      "source": [
        "# sampling some observations\n",
        "print(df.shape)\n",
        "# df.sample(3)"
      ],
      "metadata": {
        "trusted": true,
        "colab": {
          "base_uri": "https://localhost:8080/"
        },
        "id": "Oo-Jp8Ivh0Gt",
        "outputId": "90b699c3-12a2-48e3-efa6-bf3f89427877"
      },
      "execution_count": 26,
      "outputs": [
        {
          "output_type": "stream",
          "name": "stdout",
          "text": [
            "(9823, 49)\n"
          ]
        }
      ]
    },
    {
      "cell_type": "code",
      "source": [
        "# column names\n",
        "# display(df.columns)\n",
        "\n",
        "# describtion of numeratic columns\n",
        "# display(df.describe())\n",
        "\n",
        "# Non-Null Count and type of columns\n",
        "display(df.info())"
      ],
      "metadata": {
        "trusted": true,
        "colab": {
          "base_uri": "https://localhost:8080/",
          "height": 1000
        },
        "id": "59WgMycRh0Gt",
        "outputId": "c77ca1a9-6e65-4b6a-cfd0-4cf7ed241222"
      },
      "execution_count": 27,
      "outputs": [
        {
          "output_type": "stream",
          "name": "stdout",
          "text": [
            "<class 'pandas.core.frame.DataFrame'>\n",
            "Int64Index: 9823 entries, 0 to 9840\n",
            "Data columns (total 49 columns):\n",
            " #   Column                                                Non-Null Count  Dtype  \n",
            "---  ------                                                --------------  -----  \n",
            " 0   Address                                               9823 non-null   object \n",
            " 1   FLAG                                                  9823 non-null   int64  \n",
            " 2   Avg min between sent tnx                              9823 non-null   float64\n",
            " 3   Avg min between received tnx                          9823 non-null   float64\n",
            " 4   Time Diff between first and last (Mins)               9823 non-null   float64\n",
            " 5   Sent tnx                                              9823 non-null   int64  \n",
            " 6   Received Tnx                                          9823 non-null   int64  \n",
            " 7   Number of Created Contracts                           9823 non-null   int64  \n",
            " 8   Unique Received From Addresses                        9823 non-null   int64  \n",
            " 9   Unique Sent To Addresses                              9823 non-null   int64  \n",
            " 10  min value received                                    9823 non-null   float64\n",
            " 11  max value received                                    9823 non-null   float64\n",
            " 12  avg val received                                      9823 non-null   float64\n",
            " 13  min val sent                                          9823 non-null   float64\n",
            " 14  max val sent                                          9823 non-null   float64\n",
            " 15  avg val sent                                          9823 non-null   float64\n",
            " 16  min value sent to contract                            9823 non-null   float64\n",
            " 17  max val sent to contract                              9823 non-null   float64\n",
            " 18  avg value sent to contract                            9823 non-null   float64\n",
            " 19  total transactions (including tnx to create contract  9823 non-null   int64  \n",
            " 20  total Ether sent                                      9823 non-null   float64\n",
            " 21  total ether received                                  9823 non-null   float64\n",
            " 22  total ether sent contracts                            9823 non-null   float64\n",
            " 23  total ether balance                                   9823 non-null   float64\n",
            " 24   Total ERC20 tnxs                                     8994 non-null   float64\n",
            " 25   ERC20 total Ether received                           8994 non-null   float64\n",
            " 26   ERC20 total ether sent                               8994 non-null   float64\n",
            " 27   ERC20 total Ether sent contract                      8994 non-null   float64\n",
            " 28   ERC20 uniq sent addr                                 8994 non-null   float64\n",
            " 29   ERC20 uniq rec addr                                  8994 non-null   float64\n",
            " 30   ERC20 uniq sent addr.1                               8994 non-null   float64\n",
            " 31   ERC20 uniq rec contract addr                         8994 non-null   float64\n",
            " 32   ERC20 avg time between sent tnx                      8994 non-null   float64\n",
            " 33   ERC20 avg time between rec tnx                       8994 non-null   float64\n",
            " 34   ERC20 avg time between rec 2 tnx                     8994 non-null   float64\n",
            " 35   ERC20 avg time between contract tnx                  8994 non-null   float64\n",
            " 36   ERC20 min val rec                                    8994 non-null   float64\n",
            " 37   ERC20 max val rec                                    8994 non-null   float64\n",
            " 38   ERC20 avg val rec                                    8994 non-null   float64\n",
            " 39   ERC20 min val sent                                   8994 non-null   float64\n",
            " 40   ERC20 max val sent                                   8994 non-null   float64\n",
            " 41   ERC20 avg val sent                                   8994 non-null   float64\n",
            " 42   ERC20 min val sent contract                          8994 non-null   float64\n",
            " 43   ERC20 max val sent contract                          8994 non-null   float64\n",
            " 44   ERC20 avg val sent contract                          8994 non-null   float64\n",
            " 45   ERC20 uniq sent token name                           8994 non-null   float64\n",
            " 46   ERC20 uniq rec token name                            8994 non-null   float64\n",
            " 47   ERC20 most sent token type                           8982 non-null   object \n",
            " 48   ERC20_most_rec_token_type                            8972 non-null   object \n",
            "dtypes: float64(39), int64(7), object(3)\n",
            "memory usage: 3.7+ MB\n"
          ]
        },
        {
          "output_type": "display_data",
          "data": {
            "text/plain": [
              "None"
            ]
          },
          "metadata": {}
        }
      ]
    },
    {
      "cell_type": "code",
      "source": [
        "zero_feature_list = df.columns[(df.nunique() == 1)].tolist()\n",
        "zero_feature_list"
      ],
      "metadata": {
        "trusted": true,
        "colab": {
          "base_uri": "https://localhost:8080/"
        },
        "id": "R5IDtrEfh0Gu",
        "outputId": "360fd68a-56cb-46cd-abd0-35cc207e217b"
      },
      "execution_count": 28,
      "outputs": [
        {
          "output_type": "execute_result",
          "data": {
            "text/plain": [
              "[' ERC20 avg time between sent tnx',\n",
              " ' ERC20 avg time between rec tnx',\n",
              " ' ERC20 avg time between rec 2 tnx',\n",
              " ' ERC20 avg time between contract tnx',\n",
              " ' ERC20 min val sent contract',\n",
              " ' ERC20 max val sent contract',\n",
              " ' ERC20 avg val sent contract']"
            ]
          },
          "metadata": {},
          "execution_count": 28
        }
      ]
    },
    {
      "cell_type": "code",
      "source": [],
      "metadata": {
        "trusted": true,
        "id": "aRYyYolFh0Gu"
      },
      "execution_count": 29,
      "outputs": []
    },
    {
      "cell_type": "markdown",
      "source": [
        "### Categorical columns"
      ],
      "metadata": {
        "id": "jVvgg-YPh0Gt"
      }
    },
    {
      "cell_type": "markdown",
      "source": [
        "#### Check Address"
      ],
      "metadata": {
        "id": "KM0H0sImnFH0"
      }
    },
    {
      "cell_type": "code",
      "source": [
        "# non-unique adresses\n",
        "_, uniq_idx, counts = np.unique(df['Address'].to_numpy(), return_index=True, return_counts=True)\n",
        "non_unique_addresses_idx = uniq_idx[counts > 1]\n",
        "print(\"non-unique adresses count: {}\".format(len(non_unique_addresses_idx), end='\\n\\n'))\n",
        "# The flags of non-uniqe adresses\n",
        "non_unique_addresses_flags = df.iloc[non_unique_addresses_idx]['FLAG']\n",
        "print(\"flags of non-unique adresses: \", end='')\n",
        "print(*non_unique_addresses_flags)"
      ],
      "metadata": {
        "trusted": true,
        "colab": {
          "base_uri": "https://localhost:8080/"
        },
        "id": "ZDlKR_9Jh0Gv",
        "outputId": "0cb05a96-6879-4fd1-d753-272f97be88e2"
      },
      "execution_count": 34,
      "outputs": [
        {
          "output_type": "stream",
          "name": "stdout",
          "text": [
            "non-unique adresses count: 7\n",
            "flags of non-unique adresses: 0 0 0 0 0 0 0\n"
          ]
        }
      ]
    },
    {
      "cell_type": "code",
      "source": [
        "df['Non_unique_Address'] = 0\n",
        "df.loc[non_unique_addresses_idx, 'Non_unique_Address'] = 1"
      ],
      "metadata": {
        "id": "fKl_Ax0xsDMc"
      },
      "execution_count": 37,
      "outputs": []
    },
    {
      "cell_type": "code",
      "source": [
        "feature_list = list(set(df.columns) - set(['Address', 'FLAG']) - set(zero_feature_list))\n",
        "num_feature_list = list(set(feature_list) - set(df.dtypes[df.dtypes == 'object'].index) - set(zero_feature_list))\n",
        "cat_feature_list = list(set(feature_list) - set(num_feature_list))\n",
        "\n",
        "assert len(feature_list) == len(num_feature_list) + len(cat_feature_list)"
      ],
      "metadata": {
        "id": "v_N9m6WGvz4L"
      },
      "execution_count": 43,
      "outputs": []
    },
    {
      "cell_type": "code",
      "source": [
        "cat_feature_list"
      ],
      "metadata": {
        "colab": {
          "base_uri": "https://localhost:8080/"
        },
        "id": "fzwUKK5mw5lu",
        "outputId": "e9524c8c-a989-4cac-ea4a-a44e68cb467e"
      },
      "execution_count": 45,
      "outputs": [
        {
          "output_type": "execute_result",
          "data": {
            "text/plain": [
              "[' ERC20 most sent token type', ' ERC20_most_rec_token_type']"
            ]
          },
          "metadata": {},
          "execution_count": 45
        }
      ]
    },
    {
      "cell_type": "markdown",
      "source": [
        "### Numerical columns"
      ],
      "metadata": {
        "id": "0sEjm8l2h0Gv"
      }
    },
    {
      "cell_type": "code",
      "source": [
        "# are classes balanced?\n",
        "print('class : count : percent')\n",
        "print('0     : {}  : {:.2%}'.format(sum(df['FLAG']==0), sum(df['FLAG']==0)/len(df['FLAG']) ))\n",
        "print('1     : {}  : {:.2%}'.format(sum(df['FLAG']==1), sum(df['FLAG']==1)/len(df['FLAG']) ))"
      ],
      "metadata": {
        "trusted": true,
        "colab": {
          "base_uri": "https://localhost:8080/"
        },
        "id": "sDhR4Vnth0Gw",
        "outputId": "3a7c9888-fa9c-4827-862e-cdb21567529d"
      },
      "execution_count": 41,
      "outputs": [
        {
          "output_type": "stream",
          "name": "stdout",
          "text": [
            "class : count : percent\n",
            "0     : 7644  : 77.82%\n",
            "1     : 2179  : 22.18%\n"
          ]
        }
      ]
    },
    {
      "cell_type": "code",
      "source": [
        "# find the correlation with all other numeric variables in the raw data set\n",
        "klib.corr_plot(df[num_feature_list+['FLAG']], target='FLAG')"
      ],
      "metadata": {
        "colab": {
          "base_uri": "https://localhost:8080/",
          "height": 628
        },
        "id": "0jcOkt4Kol1h",
        "outputId": "880bddde-4a99-437c-f3e5-b7b009438ab0"
      },
      "execution_count": 44,
      "outputs": [
        {
          "output_type": "execute_result",
          "data": {
            "text/plain": [
              "<matplotlib.axes._subplots.AxesSubplot at 0x7fb311733590>"
            ]
          },
          "metadata": {},
          "execution_count": 44
        },
        {
          "output_type": "display_data",
          "data": {
            "text/plain": [
              "<Figure size 864x720 with 2 Axes>"
            ],
            "image/png": "[encoded data removed]"
          },
          "metadata": {
            "needs_background": "light"
          }
        }
      ]
    },
    {
      "cell_type": "markdown",
      "source": [
        "Dataset is unbalanced, we must remember about this when choosing our model metric."
      ],
      "metadata": {
        "id": "_iwT1dnAh0Gw"
      }
    },
    {
      "cell_type": "markdown",
      "source": [
        "### Missing Values"
      ],
      "metadata": {
        "id": "18qjoY0Zh0Gw"
      }
    },
    {
      "cell_type": "code",
      "source": [
        "# missing values\n",
        "missing_values = ds.isna()\n",
        "missing_percent = missing_values.sum() / ds.shape[0] * 100\n",
        "missing_df = pd.DataFrame([missing_values.sum(), missing_percent], ['count', 'percent'])\n",
        "display(missing_df.sort_values(by='percent', axis=1, ascending=False))\n",
        "missing_df.sort_values(by='percent', axis=1, ascending=False).to_csv('missing.csv')\n",
        "\n",
        "sns.heatmap(missing_values, cbar=False, cmap='magma')\n",
        "plt.show()"
      ],
      "metadata": {
        "trusted": true,
        "id": "nfow99ikh0Gw"
      },
      "execution_count": null,
      "outputs": []
    },
    {
      "cell_type": "markdown",
      "source": [
        "Looks like missing values are highly connected to fraud cases"
      ],
      "metadata": {
        "id": "RONii7HTh0Gw"
      }
    },
    {
      "cell_type": "code",
      "source": [
        "non_fraud_rows, fraud_rows = np.where( [ds.iloc[:,0]==1] )\n",
        "print(ds.iloc[fraud_rows,:].isna().sum()[-20:])"
      ],
      "metadata": {
        "trusted": true,
        "id": "8ijeAbhbh0Gx"
      },
      "execution_count": null,
      "outputs": []
    },
    {
      "cell_type": "markdown",
      "source": [
        "As we expected every missing value is in fraud rows. That means that almost 40% of fraud rows have missing values."
      ],
      "metadata": {
        "id": "JdrMcq7mh0Gx"
      }
    },
    {
      "cell_type": "code",
      "source": [
        "missing_columns = ds.columns[ds.isna().sum() > 0]"
      ],
      "metadata": {
        "trusted": true,
        "id": "ABNmtW1qh0Gx"
      },
      "execution_count": null,
      "outputs": []
    },
    {
      "cell_type": "code",
      "source": [
        "# correlation\n",
        "corr = ds.corr()\n",
        "plt.figure(figsize=(20,12))\n",
        "sns.heatmap(np.abs(corr), cmap='coolwarm')\n",
        "plt.show()"
      ],
      "metadata": {
        "trusted": true,
        "id": "CWDMaVgzh0Gx"
      },
      "execution_count": null,
      "outputs": []
    },
    {
      "cell_type": "markdown",
      "source": [
        "## Data preprocessing"
      ],
      "metadata": {
        "id": "tRtOUCfTh0Gx"
      }
    },
    {
      "cell_type": "markdown",
      "source": [
        "We left only numeratic features so preprocessing is limited to imputing null values with column mean and scaling."
      ],
      "metadata": {
        "id": "B7WBq0rxh0Gx"
      }
    },
    {
      "cell_type": "code",
      "source": [
        "preprocessing_pipeline = Pipeline([\n",
        "    ('impoter', SimpleImputer(strategy='mean')),\n",
        "    ('scaler', StandardScaler())\n",
        "])\n",
        "\n",
        "X = ds.drop(columns='FLAG').to_numpy()\n",
        "y = ds['FLAG'].to_numpy()\n",
        "\n",
        "random_permutation = np.random.permutation(len(X))\n",
        "X = X[random_permutation]\n",
        "y = y[random_permutation]"
      ],
      "metadata": {
        "trusted": true,
        "id": "7m9bFpfuh0Gx"
      },
      "execution_count": null,
      "outputs": []
    },
    {
      "cell_type": "code",
      "source": [
        "X_train, X_test, y_train, y_test = train_test_split(X, y, train_size=0.8)\n",
        "\n",
        "X_train = preprocessing_pipeline.fit_transform(X_train)\n",
        "X_test = preprocessing_pipeline.transform(X_test)"
      ],
      "metadata": {
        "trusted": true,
        "id": "WVXZ0gZ2h0Gx"
      },
      "execution_count": null,
      "outputs": []
    },
    {
      "cell_type": "markdown",
      "source": [
        "## Model selection"
      ],
      "metadata": {
        "id": "X-77SCQ2h0Gy"
      }
    },
    {
      "cell_type": "code",
      "source": [
        "def evaluate_models(X, y, models, cv):\n",
        "    f1_scores = dict()\n",
        "    acc_scores = dict()\n",
        "    \n",
        "    for i, model in enumerate(models):\n",
        "        clf_pipeline = make_pipeline(preprocessing_pipeline, model)\n",
        "        results = cross_validate(clf_pipeline, X, y, cv=cv, scoring=['f1', 'accuracy'], n_jobs=-1)\n",
        "        avg_f1 = np.mean(results['test_f1'])\n",
        "        avg_acc = np.mean(results['test_accuracy'])\n",
        "        \n",
        "        model_name = model.__class__.__name__\n",
        "        f1_scores[model_name] = avg_f1\n",
        "        acc_scores[model_name] = avg_acc\n",
        "        print('{}-of-{}: {} f1={}, acc={}'.format(i+1, len(models), model_name, avg_f1, avg_acc))\n",
        "    return f1_scores, acc_scores"
      ],
      "metadata": {
        "trusted": true,
        "id": "jEMY9SeFh0Gy"
      },
      "execution_count": null,
      "outputs": []
    },
    {
      "cell_type": "code",
      "source": [
        "cv = StratifiedKFold(5, shuffle=True, random_state=42)\n",
        "\n",
        "classifiers = [\n",
        "    LogisticRegression(random_state=42),\n",
        "    KNeighborsClassifier(),\n",
        "    RandomForestClassifier(random_state=42),\n",
        "    lgb.LGBMClassifier(random_state=42),\n",
        "    xgb.XGBClassifier(random_state=42),\n",
        "    SVC(random_state=42),\n",
        "    AdaBoostClassifier(random_state=42),\n",
        "    GaussianNB(),\n",
        "    MLPClassifier(random_state=42),\n",
        "]"
      ],
      "metadata": {
        "trusted": true,
        "id": "7wTwn9qbh0Gy"
      },
      "execution_count": null,
      "outputs": []
    },
    {
      "cell_type": "code",
      "source": [
        "f1_scores, acc_scores = evaluate_models(X, y, classifiers, cv)"
      ],
      "metadata": {
        "trusted": true,
        "id": "VYJQHclyh0Gy"
      },
      "execution_count": null,
      "outputs": []
    },
    {
      "cell_type": "code",
      "source": [
        "def visualize_scores(f1_scores, acc_scores):\n",
        "    x = np.arange(len(f1_scores))\n",
        "    width = 0.45\n",
        "    \n",
        "    f1_values = list(f1_scores.values())\n",
        "    acc_values = list(acc_scores.values())\n",
        "    \n",
        "    plt.figure(figsize=(15, 8)).tight_layout()\n",
        "    plt.bar(x - width / 2, f1_values, width, label='f1')\n",
        "    plt.bar(x + width / 2, acc_values, width, label='accuracy')\n",
        "    \n",
        "    for index, value in enumerate(x - width / 2):\n",
        "        plt.text(value, f1_values[index], '{:.3}'.format(f1_values[index]),\n",
        "                 verticalalignment='bottom', horizontalalignment='center', fontsize=10)\n",
        "\n",
        "    for index, value in enumerate(x + width / 2):\n",
        "        plt.text(value, acc_values[index], '{:.3}'.format(acc_values[index]),\n",
        "                 verticalalignment='bottom', horizontalalignment='center', fontsize=10)    \n",
        "    \n",
        "    classifiers_names = f1_scores.keys()\n",
        "    plt.xticks(x, classifiers_names, rotation=40, horizontalalignment='right', fontsize=10)\n",
        "    plt.legend()\n",
        "\n",
        "visualize_scores(f1_scores, acc_scores)"
      ],
      "metadata": {
        "trusted": true,
        "id": "_HyCLkJyh0Gy"
      },
      "execution_count": null,
      "outputs": []
    },
    {
      "cell_type": "markdown",
      "source": [
        "### XGBClassifier hyperparameter tuning"
      ],
      "metadata": {
        "id": "DQfuTS5Gh0Gy"
      }
    },
    {
      "cell_type": "code",
      "source": [
        "xgb_parameters = {\n",
        "    'xgbclassifier__n_estimators': range(1000, 4001, 1000),\n",
        "    'xgbclassifier__gamma': [0, 0.5, 1],\n",
        "    'xgbclassifier__max_depth': [5, 6, 7]\n",
        "}\n",
        "\n",
        "xgb_pipeline = make_pipeline(preprocessing_pipeline, xgb.XGBClassifier(random_state=42))\n",
        "# xgb_pipeline.steps\n",
        "xgb_grid_search = RandomizedSearchCV(\n",
        "    xgb_pipeline,\n",
        "    param_distributions=xgb_parameters,\n",
        "    scoring = 'f1',\n",
        "    n_iter = 12,\n",
        "    n_jobs = -1,\n",
        "    cv = 5,\n",
        "    random_state=42\n",
        ")\n",
        "\n",
        "xgb_grid_search.fit(X, y)"
      ],
      "metadata": {
        "trusted": true,
        "id": "L_L573Thh0Gy"
      },
      "execution_count": null,
      "outputs": []
    },
    {
      "cell_type": "code",
      "source": [
        "#grid_search.grid_scores_\n",
        "display(xgb_grid_search.best_score_)\n",
        "display(xgb_grid_search.best_params_)"
      ],
      "metadata": {
        "trusted": true,
        "id": "Z89bSYk0h0Gy"
      },
      "execution_count": null,
      "outputs": []
    },
    {
      "cell_type": "code",
      "source": [
        "LGBM_parameters = {\n",
        "        'lgbmclassifier__bagging_fraction': [0, 0.2, 0.5, 0.8, 1],\n",
        "        'lgbmclassifier__feature_fraction': [0.5, 0.8],\n",
        "        'lgbmclassifier__max_depth': [6, 10, 13, 16, 20],\n",
        "        'lgbmclassifier__min_data_in_leaf': range(40, 180, 20),\n",
        "        'lgbmclassifier__num_leaves': range(500, 2500, 300)\n",
        "}\n",
        "\n",
        "LGBM_pipeline = make_pipeline(preprocessing_pipeline, lgb.LGBMClassifier(random_state=42))\n",
        "LGBM_grid_search = RandomizedSearchCV(\n",
        "    LGBM_pipeline,\n",
        "    param_distributions=LGBM_parameters,\n",
        "    scoring = 'f1',\n",
        "    n_iter = 60,\n",
        "    n_jobs = -1,\n",
        "    cv = 5,\n",
        "    random_state=42\n",
        ")\n",
        "\n",
        "LGBM_grid_search.fit(X, y)"
      ],
      "metadata": {
        "trusted": true,
        "id": "OQVqDHKNh0Gz"
      },
      "execution_count": null,
      "outputs": []
    },
    {
      "cell_type": "code",
      "source": [
        "display(LGBM_grid_search.best_score_)\n",
        "display(LGBM_grid_search.best_params_)"
      ],
      "metadata": {
        "trusted": true,
        "id": "pk0kKUaGh0Gz"
      },
      "execution_count": null,
      "outputs": []
    },
    {
      "cell_type": "code",
      "source": [
        "RFC_parameters = {\n",
        "        'randomforestclassifier__n_estimators': range(50, 1050, 100),\n",
        "        'randomforestclassifier__max_depth': range(50, 300, 20),\n",
        "        'randomforestclassifier__min_samples_split': [2, 5, 10],\n",
        "        'randomforestclassifier__min_samples_leaf': [1, 2, 4],\n",
        "        'randomforestclassifier__bootstrap': [True, False]\n",
        "}\n",
        "\n",
        "RFC_pipeline = make_pipeline(preprocessing_pipeline, RandomForestClassifier(random_state=42))\n",
        "RFC_grid_search = RandomizedSearchCV(\n",
        "    RFC_pipeline,\n",
        "    param_distributions=RFC_parameters,\n",
        "    scoring = 'f1',\n",
        "    n_iter = 24,\n",
        "    n_jobs = -1,\n",
        "    cv = 5,\n",
        "    random_state=42\n",
        ")\n",
        "\n",
        "RFC_grid_search.fit(X, y)"
      ],
      "metadata": {
        "trusted": true,
        "id": "SyJ2wgcgh0Gz"
      },
      "execution_count": null,
      "outputs": []
    },
    {
      "cell_type": "code",
      "source": [
        "display(RFC_grid_search.best_score_)\n",
        "display(RFC_grid_search.best_params_)"
      ],
      "metadata": {
        "trusted": true,
        "id": "xsoiFwFLh0Gz"
      },
      "execution_count": null,
      "outputs": []
    },
    {
      "cell_type": "markdown",
      "source": [
        "## Best model evaluation"
      ],
      "metadata": {
        "id": "mhlNa7bDh0Gz"
      }
    },
    {
      "cell_type": "code",
      "source": [
        "best_model = lgb.LGBMClassifier(num_leaves=1400, min_data_in_leaf=100, max_depth=10,\n",
        "    feature_fraction=0.8, bagging_fraction=0.5, random_state=42)\n",
        "\n",
        "best_model.fit(X_train, y_train)\n",
        "\n",
        "predictions = best_model.predict(X_test)"
      ],
      "metadata": {
        "trusted": true,
        "id": "9Hzd4DSwh0Gz"
      },
      "execution_count": null,
      "outputs": []
    },
    {
      "cell_type": "code",
      "source": [
        "print(\"f1 score = {}\".format(f1_score(y_test, predictions)))\n",
        "\n",
        "print(\"ROC AUC score = {}\".format(roc_auc_score(y_test, predictions)))\n",
        "\n",
        "print(\"accuracy score = {}\".format(accuracy_score(y_test, predictions)))\n",
        "\n",
        "display(plot_confusion_matrix(best_model, X_test, y_test))"
      ],
      "metadata": {
        "trusted": true,
        "id": "iVuBluDch0Gz"
      },
      "execution_count": null,
      "outputs": []
    },
    {
      "cell_type": "code",
      "source": [
        "def plot_features_importance(feature_importance):\n",
        "    column_names = ds.drop(columns='FLAG').columns\n",
        "\n",
        "    df_feature_importance = pd.DataFrame(sorted(zip(feature_importance, column_names)),\n",
        "                                       columns=['Importance value', 'Feature'])\n",
        "    df_feature_importance = df_feature_importance.sort_values('Importance value', ascending=False)\n",
        "\n",
        "    plt.figure(figsize=(9, 7)).tight_layout()\n",
        "    sns.barplot(y=\"Feature\", x=\"Importance value\", data=df_feature_importance)\n",
        "    plt.show()\n",
        "\n",
        "plot_features_importance(best_model.feature_importances_)"
      ],
      "metadata": {
        "trusted": true,
        "id": "l-MRFV7rh0Gz"
      },
      "execution_count": null,
      "outputs": []
    }
  ]
}